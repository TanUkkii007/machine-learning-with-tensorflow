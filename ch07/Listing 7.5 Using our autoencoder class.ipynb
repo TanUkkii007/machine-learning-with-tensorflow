{
 "cells": [
  {
   "cell_type": "code",
   "execution_count": 1,
   "metadata": {
    "collapsed": true
   },
   "outputs": [],
   "source": [
    "import tensorflow as tf\n",
    "import numpy as np"
   ]
  },
  {
   "cell_type": "code",
   "execution_count": 9,
   "metadata": {
    "collapsed": true
   },
   "outputs": [],
   "source": [
    "def get_batch(X, size):\n",
    "    a = np.random.choice(len(X), size, replace=False)\n",
    "    return X[a]"
   ]
  },
  {
   "cell_type": "code",
   "execution_count": 20,
   "metadata": {
    "collapsed": true
   },
   "outputs": [],
   "source": [
    "class Autoencoder:\n",
    "    def __init__(self, input_dim, hidden_dim, epoch=250, learning_rate=0.001):\n",
    "        self.epoch = epoch\n",
    "        self.learning_rate = learning_rate\n",
    "        \n",
    "        x = tf.placeholder(dtype=tf.float32, shape=[None, input_dim])\n",
    "        \n",
    "        with tf.name_scope('encode'):\n",
    "            weights = tf.Variable(tf.random_normal([input_dim, hidden_dim]), dtype=tf.float32, name='weights')\n",
    "            biases = tf.Variable(tf.zeros([hidden_dim]), name='biases')\n",
    "            encoded = tf.nn.tanh(tf.matmul(x, weights) + biases)\n",
    "        with tf.name_scope('decode'):\n",
    "            weights = tf.Variable(tf.random_normal([hidden_dim, input_dim], dtype=tf.float32), name='weights')\n",
    "            biases = tf.Variable(tf.zeros([input_dim]), name='biases')\n",
    "            decoded = tf.matmul(encoded, weights) + biases\n",
    "        \n",
    "        self.x = x\n",
    "        self.encoded = encoded\n",
    "        self.decoded = decoded\n",
    "        \n",
    "        self.loss = tf.sqrt(tf.reduce_mean(tf.square(tf.subtract(self.x, self.decoded))))\n",
    "        \n",
    "        self.train_op = tf.train.RMSPropOptimizer(self.learning_rate).minimize(self.loss)\n",
    "        self.saver = tf.train.Saver()\n",
    "        \n",
    "    def train(self, data):\n",
    "        num_samples = len(data)\n",
    "        with tf.Session() as sess:\n",
    "            sess.run(tf.global_variables_initializer())\n",
    "            for i in range(self.epoch):\n",
    "                for j in range(num_samples):\n",
    "                    l, _ = sess.run([self.loss, self.train_op], feed_dict={self.x: [data[j]]})\n",
    "                if i % 10 == 0:\n",
    "                    print('epoch {0}: loss = {1}'.format(i, l))\n",
    "                    self.saver.save(sess, './model.ckpt')\n",
    "            self.saver.save(sess, './model.ckpt')\n",
    "    \n",
    "    def train_batch(self, data, batch_size=10):\n",
    "        with tf.Session() as sess:\n",
    "            sess.run(tf.global_variables_initializer())\n",
    "            for i in range(self.epoch):\n",
    "                for j in range(500):\n",
    "                    batch_data = get_batch(data, batch_size)\n",
    "                    l, _ = sess.run([self.loss, self.train_op], feed_dict={self.x: batch_data})\n",
    "                if i % 50 == 0:\n",
    "                    print('epoch {0}: loss={1}'.format(i, l))\n",
    "                    self.saver.save(sess, './model.ckpt')\n",
    "            self.saver.save(sess, './model.ckpt')\n",
    "    \n",
    "    def test(self, data):\n",
    "        with tf.Session() as sess:\n",
    "            self.saver.restore(sess, './model.ckpt')\n",
    "            hidden, reconstructed = sess.run([self.encoded, self.decoded], feed_dict={self.x: data})\n",
    "            print('input', data)\n",
    "            print('compressed', hidden)\n",
    "            print('reconstructed', reconstructed)\n",
    "            return reconstructed"
   ]
  },
  {
   "cell_type": "code",
   "execution_count": 8,
   "metadata": {
    "collapsed": false
   },
   "outputs": [
    {
     "name": "stdout",
     "output_type": "stream",
     "text": [
      "epoch 0: loss = 4.198827266693115\n",
      "epoch 10: loss = 2.0768535137176514\n",
      "epoch 20: loss = 0.9981046319007874\n",
      "epoch 30: loss = 0.5324809551239014\n",
      "epoch 40: loss = 0.3828141391277313\n",
      "epoch 50: loss = 0.3655385971069336\n",
      "epoch 60: loss = 0.35946860909461975\n",
      "epoch 70: loss = 0.35231539607048035\n",
      "epoch 80: loss = 0.341936856508255\n",
      "epoch 90: loss = 0.32704949378967285\n",
      "epoch 100: loss = 0.3060683012008667\n",
      "epoch 110: loss = 0.2835567593574524\n",
      "epoch 120: loss = 0.26376065611839294\n",
      "epoch 130: loss = 0.2513621151447296\n",
      "epoch 140: loss = 0.24227002263069153\n",
      "epoch 150: loss = 0.23086513578891754\n",
      "epoch 160: loss = 0.21080884337425232\n",
      "epoch 170: loss = 0.21516326069831848\n",
      "epoch 180: loss = 0.2185724824666977\n",
      "epoch 190: loss = 0.2204909324645996\n",
      "epoch 200: loss = 0.22207975387573242\n",
      "epoch 210: loss = 0.2235858291387558\n",
      "epoch 220: loss = 0.22503425180912018\n",
      "epoch 230: loss = 0.22640833258628845\n",
      "epoch 240: loss = 0.22769129276275635\n",
      "input [[8, 4, 6, 2]]\n",
      "compressed [[-0.74908912]]\n",
      "reconstructed [[ 6.2937212   2.90197134  4.99299431  1.74079442]]\n"
     ]
    },
    {
     "data": {
      "text/plain": [
       "array([[ 6.2937212 ,  2.90197134,  4.99299431,  1.74079442]], dtype=float32)"
      ]
     },
     "execution_count": 8,
     "metadata": {},
     "output_type": "execute_result"
    }
   ],
   "source": [
    "from sklearn import datasets\n",
    "\n",
    "hidden_dim = 1\n",
    "data = datasets.load_iris().data\n",
    "input_dim = len(data[0])\n",
    "ae = Autoencoder(input_dim, hidden_dim)\n",
    "ae.train(data)\n",
    "ae.test([[8,4,6,2]])"
   ]
  },
  {
   "cell_type": "code",
   "execution_count": 21,
   "metadata": {
    "collapsed": false
   },
   "outputs": [
    {
     "name": "stdout",
     "output_type": "stream",
     "text": [
      "epoch 0: loss=2.5457303524017334\n",
      "epoch 50: loss=0.3011484742164612\n",
      "epoch 100: loss=0.27178338170051575\n",
      "epoch 150: loss=0.2699034512042999\n",
      "epoch 200: loss=0.3362778127193451\n",
      "input [[8, 4, 6, 2]]\n",
      "compressed [[ 0.38115057]]\n",
      "reconstructed [[ 6.89253139  2.8066318   6.26520872  2.26308823]]\n"
     ]
    },
    {
     "data": {
      "text/plain": [
       "array([[ 6.89253139,  2.8066318 ,  6.26520872,  2.26308823]], dtype=float32)"
      ]
     },
     "execution_count": 21,
     "metadata": {},
     "output_type": "execute_result"
    }
   ],
   "source": [
    "hidden_dim = 1\n",
    "batch_size = 10\n",
    "data = datasets.load_iris().data\n",
    "input_dim = len(data[0])\n",
    "ae = Autoencoder(input_dim, hidden_dim)\n",
    "ae.train_batch(data, batch_size)\n",
    "ae.test([[8,4,6,2]])"
   ]
  }
 ],
 "metadata": {
  "kernelspec": {
   "display_name": "Python 3",
   "language": "python",
   "name": "python3"
  },
  "language_info": {
   "codemirror_mode": {
    "name": "ipython",
    "version": 3
   },
   "file_extension": ".py",
   "mimetype": "text/x-python",
   "name": "python",
   "nbconvert_exporter": "python",
   "pygments_lexer": "ipython3",
   "version": "3.5.2"
  }
 },
 "nbformat": 4,
 "nbformat_minor": 2
}
