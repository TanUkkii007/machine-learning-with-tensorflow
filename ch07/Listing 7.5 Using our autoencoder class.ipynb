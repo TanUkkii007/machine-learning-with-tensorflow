{
 "cells": [
  {
   "cell_type": "code",
   "execution_count": 1,
   "metadata": {
    "collapsed": true
   },
   "outputs": [],
   "source": [
    "import tensorflow as tf\n",
    "import numpy as np"
   ]
  },
  {
   "cell_type": "code",
   "execution_count": 5,
   "metadata": {
    "collapsed": true
   },
   "outputs": [],
   "source": [
    "class Autoencoder:\n",
    "    def __init__(self, input_dim, hidden_dim, epoch=250, learning_rate=0.001):\n",
    "        self.epoch = epoch\n",
    "        self.learning_rate = learning_rate\n",
    "        \n",
    "        x = tf.placeholder(dtype=tf.float32, shape=[None, input_dim])\n",
    "        \n",
    "        with tf.name_scope('encode'):\n",
    "            weights = tf.Variable(tf.random_normal([input_dim, hidden_dim]), dtype=tf.float32, name='weights')\n",
    "            biases = tf.Variable(tf.zeros([hidden_dim]), name='biases')\n",
    "            encoded = tf.nn.tanh(tf.matmul(x, weights) + biases)\n",
    "        with tf.name_scope('decode'):\n",
    "            weights = tf.Variable(tf.random_normal([hidden_dim, input_dim], dtype=tf.float32), name='weights')\n",
    "            biases = tf.Variable(tf.zeros([input_dim]), name='biases')\n",
    "            decoded = tf.matmul(encoded, weights) + biases\n",
    "        \n",
    "        self.x = x\n",
    "        self.encoded = encoded\n",
    "        self.decoded = decoded\n",
    "        \n",
    "        self.loss = tf.sqrt(tf.reduce_mean(tf.square(tf.subtract(self.x, self.decoded))))\n",
    "        \n",
    "        self.train_op = tf.train.RMSPropOptimizer(self.learning_rate).minimize(self.loss)\n",
    "        self.saver = tf.train.Saver()\n",
    "        \n",
    "    def train(self, data):\n",
    "        num_samples = len(data)\n",
    "        with tf.Session() as sess:\n",
    "            sess.run(tf.global_variables_initializer())\n",
    "            for i in range(self.epoch):\n",
    "                for j in range(num_samples):\n",
    "                    l, _ = sess.run([self.loss, self.train_op], feed_dict={self.x: [data[j]]})\n",
    "                if i % 10 == 0:\n",
    "                    print('epoch {0}: loss = {1}'.format(i, l))\n",
    "                    self.saver.save(sess, './model.ckpt')\n",
    "            self.saver.save(sess, './model.ckpt')\n",
    "    \n",
    "    def test(self, data):\n",
    "        with tf.Session() as sess:\n",
    "            self.saver.restore(sess, './model.ckpt')\n",
    "            hidden, reconstructed = sess.run([self.encoded, self.decoded], feed_dict={self.x: data})\n",
    "            print('input', data)\n",
    "            print('compressed', hidden)\n",
    "            print('reconstructed', reconstructed)\n",
    "            return reconstructed"
   ]
  },
  {
   "cell_type": "code",
   "execution_count": 7,
   "metadata": {
    "collapsed": false
   },
   "outputs": [
    {
     "name": "stdout",
     "output_type": "stream",
     "text": [
      "epoch 0: loss = 3.1613223552703857\n",
      "epoch 10: loss = 1.4270784854888916\n",
      "epoch 20: loss = 0.6996403932571411\n",
      "epoch 30: loss = 0.4325000047683716\n",
      "epoch 40: loss = 0.379517138004303\n",
      "epoch 50: loss = 0.37081584334373474\n",
      "epoch 60: loss = 0.3666681945323944\n",
      "epoch 70: loss = 0.36271238327026367\n",
      "epoch 80: loss = 0.35832926630973816\n",
      "epoch 90: loss = 0.3533138036727905\n",
      "epoch 100: loss = 0.34747904539108276\n",
      "epoch 110: loss = 0.34057411551475525\n",
      "epoch 120: loss = 0.33219805359840393\n",
      "epoch 130: loss = 0.32160285115242004\n",
      "epoch 140: loss = 0.30815666913986206\n",
      "epoch 150: loss = 0.29402828216552734\n",
      "epoch 160: loss = 0.2791764438152313\n",
      "epoch 170: loss = 0.265682578086853\n",
      "epoch 180: loss = 0.2522948980331421\n",
      "epoch 190: loss = 0.2394627183675766\n",
      "epoch 200: loss = 0.23055315017700195\n",
      "epoch 210: loss = 0.23047366738319397\n",
      "epoch 220: loss = 0.23829425871372223\n",
      "epoch 230: loss = 0.25287818908691406\n",
      "epoch 240: loss = 0.2728956639766693\n",
      "input [[8, 4, 6, 2]]\n",
      "compressed [[-0.96406698]]\n",
      "reconstructed [[ 6.43370962  2.8234024   5.38293362  1.8696965 ]]\n"
     ]
    },
    {
     "data": {
      "text/plain": [
       "array([[ 6.43370962,  2.8234024 ,  5.38293362,  1.8696965 ]], dtype=float32)"
      ]
     },
     "execution_count": 7,
     "metadata": {},
     "output_type": "execute_result"
    }
   ],
   "source": [
    "from sklearn import datasets\n",
    "\n",
    "hidden_dim = 1\n",
    "data = datasets.load_iris().data\n",
    "input_dim = len(data[0])\n",
    "ae = Autoencoder(input_dim, hidden_dim)\n",
    "ae.train(data)\n",
    "ae.test([[8,4,6,2]])"
   ]
  }
 ],
 "metadata": {
  "kernelspec": {
   "display_name": "Python 3",
   "language": "python",
   "name": "python3"
  },
  "language_info": {
   "codemirror_mode": {
    "name": "ipython",
    "version": 3
   },
   "file_extension": ".py",
   "mimetype": "text/x-python",
   "name": "python",
   "nbconvert_exporter": "python",
   "pygments_lexer": "ipython3",
   "version": "3.5.2"
  }
 },
 "nbformat": 4,
 "nbformat_minor": 2
}
