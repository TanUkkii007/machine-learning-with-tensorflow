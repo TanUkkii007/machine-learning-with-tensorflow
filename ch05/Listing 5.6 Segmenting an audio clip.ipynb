{
 "cells": [
  {
   "cell_type": "code",
   "execution_count": 17,
   "metadata": {
    "collapsed": false
   },
   "outputs": [],
   "source": [
    "import tensorflow as tf\n",
    "import numpy as np\n",
    "from bregman.suite import *"
   ]
  },
  {
   "cell_type": "code",
   "execution_count": 18,
   "metadata": {
    "collapsed": true
   },
   "outputs": [],
   "source": [
    "k = 2\n",
    "segment_size = 50\n",
    "max_iterations = 100"
   ]
  },
  {
   "cell_type": "code",
   "execution_count": 19,
   "metadata": {
    "collapsed": true
   },
   "outputs": [],
   "source": [
    "chromo = tf.placeholder(tf.float32)\n",
    "max_freqs = tf.argmax(chromo, 0)\n",
    "\n",
    "def get_chromogram(audio_file):\n",
    "    F = Chromagram(audio_file, nfft=16384, wfft=8192, nhop=2205)\n",
    "    return F.X\n",
    "\n",
    "def extract_feature_vector(sess, chromo_data):\n",
    "    num_features, num_samples = np.shape(chromo_data)\n",
    "    freq_vals = sess.run(max_freqs, feed_dict={chromo: chromo_data})\n",
    "    hist, bins = np.histogram(freq_vals, bins=range(num_features + 1))\n",
    "    return hist.astype(float) / num_samples\n",
    "\n",
    "def get_dataset(sess, audio_file):\n",
    "    chromo_data = get_chromogram(audio_file)\n",
    "    print('chromo_data', np.shape(chromo_data))\n",
    "    chromo_length = np.shape(chromo_data)[1]\n",
    "    xs = []\n",
    "    for i in range(chromo_length // segment_size):\n",
    "        chromo_segment = chromo_data[:, i*segment_size:(i + 1) * segment_size]\n",
    "        x = extract_feature_vector(sess, chromo_segment)\n",
    "        if len(xs) == 0:\n",
    "            xs = x\n",
    "        else:\n",
    "            xs = np.vstack((xs, x))\n",
    "    return xs"
   ]
  },
  {
   "cell_type": "code",
   "execution_count": 20,
   "metadata": {
    "collapsed": true
   },
   "outputs": [],
   "source": [
    "def initial_cluster_centroids(X, k):\n",
    "    return X[0:k, :]\n",
    "\n",
    "def assign_cluster(X, centroids):\n",
    "    expanded_vectors = tf.expand_dims(X, 0)\n",
    "    expanded_centroids = tf.expand_dims(centroids, 1)\n",
    "    distances = tf.reduce_sum(tf.square(tf.subtract(expanded_vectors, expanded_centroids)), 2)\n",
    "    mins = tf.argmin(distances, 0)\n",
    "    return mins\n",
    "\n",
    "def recompute_centroids(X, Y):\n",
    "    sums = tf.unsorted_segment_sum(X, Y, k)\n",
    "    counts = tf.unsorted_segment_sum(tf.ones_like(X), Y, k)\n",
    "    return sums / counts"
   ]
  },
  {
   "cell_type": "code",
   "execution_count": 22,
   "metadata": {
    "collapsed": false
   },
   "outputs": [
    {
     "name": "stderr",
     "output_type": "stream",
     "text": [
      "/Users/yusuke/anaconda/envs/tensorflow/lib/python3.5/site-packages/bregman/features_base.py:444: VisibleDeprecationWarning: using a non-integer number instead of an integer will result in an error in the future\n",
      "  self.STFT = P.zeros((self.nfft / 2 + 1, num_frames), dtype='complex')\n",
      "/Users/yusuke/anaconda/envs/tensorflow/lib/python3.5/site-packages/bregman/features_base.py:384: VisibleDeprecationWarning: using a non-integer number instead of an integer will result in an error in the future\n",
      "  mxnorm = P.empty(self._cqtN)  # Normalization coefficients\n",
      "/Users/yusuke/anaconda/envs/tensorflow/lib/python3.5/site-packages/bregman/features_base.py:390: VisibleDeprecationWarning: using a non-integer number instead of an integer will result in an error in the future\n",
      "  for i in P.arange(self._cqtN)])\n"
     ]
    },
    {
     "name": "stdout",
     "output_type": "stream",
     "text": [
      "chromo_data (12, 3605)\n",
      "(72, 12)\n",
      "iteration 50\n",
      "iteration 100\n",
      "0.0m 0.0s 0\n",
      "0.0m 5.0s 0\n",
      "0.0m 10.0s 0\n",
      "0.0m 15.0s 0\n",
      "0.0m 20.0s 0\n",
      "0.0m 25.0s 0\n",
      "0.0m 30.0s 0\n",
      "0.0m 35.0s 0\n",
      "0.0m 40.0s 1\n",
      "0.0m 45.0s 1\n",
      "0.0m 50.0s 1\n",
      "0.0m 55.0s 1\n",
      "1.0m 0.0s 0\n",
      "1.0m 5.0s 0\n",
      "1.0m 10.0s 0\n",
      "1.0m 15.0s 0\n",
      "1.0m 20.0s 0\n",
      "1.0m 25.0s 0\n",
      "1.0m 30.0s 1\n",
      "1.0m 35.0s 1\n",
      "1.0m 40.0s 1\n",
      "1.0m 45.0s 1\n",
      "1.0m 50.0s 1\n",
      "1.0m 55.0s 0\n",
      "2.0m 0.0s 0\n",
      "2.0m 5.0s 0\n",
      "2.0m 10.0s 0\n",
      "2.0m 15.0s 0\n",
      "2.0m 20.0s 0\n",
      "2.0m 25.0s 0\n",
      "2.0m 30.0s 0\n",
      "2.0m 35.0s 0\n",
      "2.0m 40.0s 0\n",
      "2.0m 45.0s 0\n",
      "2.0m 50.0s 0\n",
      "2.0m 55.0s 1\n",
      "3.0m 0.0s 1\n",
      "3.0m 5.0s 1\n",
      "3.0m 10.0s 1\n",
      "3.0m 15.0s 1\n",
      "3.0m 20.0s 0\n",
      "3.0m 25.0s 0\n",
      "3.0m 30.0s 1\n",
      "3.0m 35.0s 1\n",
      "3.0m 40.0s 0\n",
      "3.0m 45.0s 1\n",
      "3.0m 50.0s 1\n",
      "3.0m 55.0s 1\n",
      "4.0m 0.0s 1\n",
      "4.0m 5.0s 1\n",
      "4.0m 10.0s 1\n",
      "4.0m 15.0s 0\n",
      "4.0m 20.0s 1\n",
      "4.0m 25.0s 1\n",
      "4.0m 30.0s 0\n",
      "4.0m 35.0s 0\n",
      "4.0m 40.0s 0\n",
      "4.0m 45.0s 0\n",
      "4.0m 50.0s 0\n",
      "4.0m 55.0s 0\n",
      "5.0m 0.0s 0\n",
      "5.0m 5.0s 0\n",
      "5.0m 10.0s 1\n",
      "5.0m 15.0s 1\n",
      "5.0m 20.0s 1\n",
      "5.0m 25.0s 1\n",
      "5.0m 30.0s 1\n",
      "5.0m 35.0s 0\n",
      "5.0m 40.0s 0\n",
      "5.0m 45.0s 0\n",
      "5.0m 50.0s 0\n",
      "5.0m 55.0s 0\n"
     ]
    }
   ],
   "source": [
    "with tf.Session() as sess:\n",
    "    # https://archive.org/details/BEETHOVENViolinSonataNo.7-NEWTRANSFER/03.Iii.Scherzo.mp3\n",
    "    X = get_dataset(sess, '03_Iii_Scherzo.wav')\n",
    "    print(np.shape(X))\n",
    "    centroids = initial_cluster_centroids(X, k)\n",
    "    i, converged = 0, False\n",
    "    while not converged and i < max_iterations:\n",
    "        i += 1\n",
    "        Y = assign_cluster(X, centroids)\n",
    "        centroids = sess.run(recompute_centroids(X, Y))\n",
    "        if i % 50 == 0:\n",
    "            print('iteration', i)\n",
    "    segments = sess.run(Y)\n",
    "    for i in range(len(segments)):\n",
    "        seconds = (i * segment_size) / float(10)\n",
    "        min, sec = divmod(seconds, 60)\n",
    "        time_str = '{}m {}s'.format(min, sec)\n",
    "        print(time_str, segments[i])"
   ]
  }
 ],
 "metadata": {
  "kernelspec": {
   "display_name": "Python 3",
   "language": "python",
   "name": "python3"
  },
  "language_info": {
   "codemirror_mode": {
    "name": "ipython",
    "version": 3
   },
   "file_extension": ".py",
   "mimetype": "text/x-python",
   "name": "python",
   "nbconvert_exporter": "python",
   "pygments_lexer": "ipython3",
   "version": "3.5.2"
  }
 },
 "nbformat": 4,
 "nbformat_minor": 2
}
