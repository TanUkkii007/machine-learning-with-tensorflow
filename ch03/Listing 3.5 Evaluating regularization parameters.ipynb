{
 "cells": [
  {
   "cell_type": "code",
   "execution_count": 6,
   "metadata": {
    "collapsed": true
   },
   "outputs": [],
   "source": [
    "import tensorflow as tf\n",
    "import numpy as np\n",
    "import matplotlib.pyplot as plt\n",
    "\n",
    "def split_dataset(x_dataset, y_dataset, ratio):\n",
    "    arr = np.arange(x_dataset.size)\n",
    "    np.random.shuffle(arr)\n",
    "    num_train = ratio * x_dataset.size\n",
    "    x_train = x_dataset[arr[0:num_train]]\n",
    "    y_train = y_dataset[arr[0:num_train]]\n",
    "    x_test = x_dataset[arr[num_train:x_dataset.size]]\n",
    "    y_test = y_dataset[arr[num_train:x_dataset.size]]\n",
    "    return x_train, x_test, y_train, y_test"
   ]
  },
  {
   "cell_type": "code",
   "execution_count": null,
   "metadata": {
    "collapsed": true
   },
   "outputs": [],
   "source": [
    "learning_rate = 0.001\n",
    "training_epochs = 1000\n",
    "reg_lambda = 0."
   ]
  },
  {
   "cell_type": "code",
   "execution_count": 2,
   "metadata": {
    "collapsed": true
   },
   "outputs": [],
   "source": [
    "x_dataset = np.linspace(-1,1,100)"
   ]
  },
  {
   "cell_type": "code",
   "execution_count": 3,
   "metadata": {
    "collapsed": true
   },
   "outputs": [],
   "source": [
    "num_coeffs = 9\n",
    "y_dataset_params = [0.] * num_coeffs\n",
    "y_dataset_params[2] = 1\n",
    "y_dataset = 0\n",
    "for i in range(num_coeffs):\n",
    "    y_dataset += y_dataset_params[i] * np.power(x_dataset, i)\n",
    "y_dataset += np.random.randn(*x_dataset.shape)"
   ]
  },
  {
   "cell_type": "code",
   "execution_count": 7,
   "metadata": {
    "collapsed": false
   },
   "outputs": [
    {
     "name": "stderr",
     "output_type": "stream",
     "text": [
      "/Users/yusuke/anaconda/envs/tensorflow/lib/python3.5/site-packages/ipykernel/__main__.py:9: VisibleDeprecationWarning: using a non-integer number instead of an integer will result in an error in the future\n",
      "/Users/yusuke/anaconda/envs/tensorflow/lib/python3.5/site-packages/ipykernel/__main__.py:10: VisibleDeprecationWarning: using a non-integer number instead of an integer will result in an error in the future\n",
      "/Users/yusuke/anaconda/envs/tensorflow/lib/python3.5/site-packages/ipykernel/__main__.py:11: VisibleDeprecationWarning: using a non-integer number instead of an integer will result in an error in the future\n",
      "/Users/yusuke/anaconda/envs/tensorflow/lib/python3.5/site-packages/ipykernel/__main__.py:12: VisibleDeprecationWarning: using a non-integer number instead of an integer will result in an error in the future\n"
     ]
    }
   ],
   "source": [
    "(x_train, x_test, y_train, y_test) = split_dataset(x_dataset, y_dataset, 0.7)"
   ]
  },
  {
   "cell_type": "code",
   "execution_count": 8,
   "metadata": {
    "collapsed": true
   },
   "outputs": [],
   "source": [
    "X = tf.placeholder(\"float\")\n",
    "Y = tf.placeholder(\"float\")"
   ]
  },
  {
   "cell_type": "code",
   "execution_count": 9,
   "metadata": {
    "collapsed": true
   },
   "outputs": [],
   "source": [
    "def model(X, w):\n",
    "    terms = []\n",
    "    for i in range(num_coeffs):\n",
    "        term = tf.multiply(w[i], tf.pow(X, i))\n",
    "        terms.append(term)\n",
    "    return tf.add_n(terms)"
   ]
  },
  {
   "cell_type": "code",
   "execution_count": 10,
   "metadata": {
    "collapsed": true
   },
   "outputs": [],
   "source": [
    "w = tf.Variable([0.] * num_coeffs, name=\"parameters\")\n",
    "y_model = model(X, w)\n",
    "cost = tf.div(\n",
    "    tf.add(\n",
    "        tf.reduce_sum(tf.square(Y-y_model)),\n",
    "        tf.multiply(reg_lambda, tf.reduce_sum(tf.square(w)))\n",
    "    ),\n",
    "    2*x_train.size\n",
    ")\n",
    "train_op = tf.train.GradientDescentOptimizer(learning_rate).minimize(cost)"
   ]
  },
  {
   "cell_type": "code",
   "execution_count": 11,
   "metadata": {
    "collapsed": true
   },
   "outputs": [],
   "source": [
    "sess = tf.Session()\n",
    "init = tf.global_variables_initializer()\n",
    "sess.run(init)"
   ]
  },
  {
   "cell_type": "code",
   "execution_count": 13,
   "metadata": {
    "collapsed": false
   },
   "outputs": [
    {
     "name": "stdout",
     "output_type": "stream",
     "text": [
      "reg lambda 0.0\n",
      "final cost 0.248095\n",
      "reg lambda 0.010101010101\n",
      "final cost 0.229451\n",
      "reg lambda 0.020202020202\n",
      "final cost 0.223372\n",
      "reg lambda 0.030303030303\n",
      "final cost 0.220765\n",
      "reg lambda 0.040404040404\n",
      "final cost 0.219378\n",
      "reg lambda 0.0505050505051\n",
      "final cost 0.218509\n",
      "reg lambda 0.0606060606061\n",
      "final cost 0.217896\n",
      "reg lambda 0.0707070707071\n",
      "final cost 0.217428\n",
      "reg lambda 0.0808080808081\n",
      "final cost 0.217051\n",
      "reg lambda 0.0909090909091\n",
      "final cost 0.216737\n",
      "reg lambda 0.10101010101\n",
      "final cost 0.216467\n",
      "reg lambda 0.111111111111\n",
      "final cost 0.216232\n",
      "reg lambda 0.121212121212\n",
      "final cost 0.216025\n",
      "reg lambda 0.131313131313\n",
      "final cost 0.215841\n",
      "reg lambda 0.141414141414\n",
      "final cost 0.215675\n",
      "reg lambda 0.151515151515\n",
      "final cost 0.215526\n",
      "reg lambda 0.161616161616\n",
      "final cost 0.21539\n",
      "reg lambda 0.171717171717\n",
      "final cost 0.215267\n",
      "reg lambda 0.181818181818\n",
      "final cost 0.215153\n",
      "reg lambda 0.191919191919\n",
      "final cost 0.215049\n",
      "reg lambda 0.20202020202\n",
      "final cost 0.214952\n",
      "reg lambda 0.212121212121\n",
      "final cost 0.214862\n",
      "reg lambda 0.222222222222\n",
      "final cost 0.214779\n",
      "reg lambda 0.232323232323\n",
      "final cost 0.214701\n",
      "reg lambda 0.242424242424\n",
      "final cost 0.214628\n",
      "reg lambda 0.252525252525\n",
      "final cost 0.214559\n",
      "reg lambda 0.262626262626\n",
      "final cost 0.214494\n",
      "reg lambda 0.272727272727\n",
      "final cost 0.214432\n",
      "reg lambda 0.282828282828\n",
      "final cost 0.214374\n",
      "reg lambda 0.292929292929\n",
      "final cost 0.214318\n",
      "reg lambda 0.30303030303\n",
      "final cost 0.214265\n",
      "reg lambda 0.313131313131\n",
      "final cost 0.214215\n",
      "reg lambda 0.323232323232\n",
      "final cost 0.214166\n",
      "reg lambda 0.333333333333\n",
      "final cost 0.214119\n",
      "reg lambda 0.343434343434\n",
      "final cost 0.214075\n",
      "reg lambda 0.353535353535\n",
      "final cost 0.214031\n",
      "reg lambda 0.363636363636\n",
      "final cost 0.213989\n",
      "reg lambda 0.373737373737\n",
      "final cost 0.213949\n",
      "reg lambda 0.383838383838\n",
      "final cost 0.213909\n",
      "reg lambda 0.393939393939\n",
      "final cost 0.213871\n",
      "reg lambda 0.40404040404\n",
      "final cost 0.213834\n",
      "reg lambda 0.414141414141\n",
      "final cost 0.213799\n",
      "reg lambda 0.424242424242\n",
      "final cost 0.213764\n",
      "reg lambda 0.434343434343\n",
      "final cost 0.21373\n",
      "reg lambda 0.444444444444\n",
      "final cost 0.213697\n",
      "reg lambda 0.454545454545\n",
      "final cost 0.213664\n",
      "reg lambda 0.464646464646\n",
      "final cost 0.213633\n",
      "reg lambda 0.474747474747\n",
      "final cost 0.213602\n",
      "reg lambda 0.484848484848\n",
      "final cost 0.213573\n",
      "reg lambda 0.494949494949\n",
      "final cost 0.213543\n",
      "reg lambda 0.505050505051\n",
      "final cost 0.213514\n",
      "reg lambda 0.515151515152\n",
      "final cost 0.213486\n",
      "reg lambda 0.525252525253\n",
      "final cost 0.213459\n",
      "reg lambda 0.535353535354\n",
      "final cost 0.213432\n",
      "reg lambda 0.545454545455\n",
      "final cost 0.213406\n",
      "reg lambda 0.555555555556\n",
      "final cost 0.213379\n",
      "reg lambda 0.565656565657\n",
      "final cost 0.213355\n",
      "reg lambda 0.575757575758\n",
      "final cost 0.213329\n",
      "reg lambda 0.585858585859\n",
      "final cost 0.213305\n",
      "reg lambda 0.59595959596\n",
      "final cost 0.213282\n",
      "reg lambda 0.606060606061\n",
      "final cost 0.213258\n",
      "reg lambda 0.616161616162\n",
      "final cost 0.213235\n",
      "reg lambda 0.626262626263\n",
      "final cost 0.213213\n",
      "reg lambda 0.636363636364\n",
      "final cost 0.213192\n",
      "reg lambda 0.646464646465\n",
      "final cost 0.213169\n",
      "reg lambda 0.656565656566\n",
      "final cost 0.213148\n",
      "reg lambda 0.666666666667\n",
      "final cost 0.213129\n",
      "reg lambda 0.676767676768\n",
      "final cost 0.213108\n",
      "reg lambda 0.686868686869\n",
      "final cost 0.213087\n",
      "reg lambda 0.69696969697\n",
      "final cost 0.213069\n",
      "reg lambda 0.707070707071\n",
      "final cost 0.213049\n",
      "reg lambda 0.717171717172\n",
      "final cost 0.21303\n",
      "reg lambda 0.727272727273\n",
      "final cost 0.213012\n",
      "reg lambda 0.737373737374\n",
      "final cost 0.212994\n",
      "reg lambda 0.747474747475\n",
      "final cost 0.212976\n",
      "reg lambda 0.757575757576\n",
      "final cost 0.212959\n",
      "reg lambda 0.767676767677\n",
      "final cost 0.212942\n",
      "reg lambda 0.777777777778\n",
      "final cost 0.212925\n",
      "reg lambda 0.787878787879\n",
      "final cost 0.212909\n",
      "reg lambda 0.79797979798\n",
      "final cost 0.212894\n",
      "reg lambda 0.808080808081\n",
      "final cost 0.212877\n",
      "reg lambda 0.818181818182\n",
      "final cost 0.212862\n",
      "reg lambda 0.828282828283\n",
      "final cost 0.212846\n",
      "reg lambda 0.838383838384\n",
      "final cost 0.212833\n",
      "reg lambda 0.848484848485\n",
      "final cost 0.212817\n",
      "reg lambda 0.858585858586\n",
      "final cost 0.212804\n",
      "reg lambda 0.868686868687\n",
      "final cost 0.212789\n",
      "reg lambda 0.878787878788\n",
      "final cost 0.212777\n",
      "reg lambda 0.888888888889\n",
      "final cost 0.212763\n",
      "reg lambda 0.89898989899\n",
      "final cost 0.21275\n",
      "reg lambda 0.909090909091\n",
      "final cost 0.212736\n",
      "reg lambda 0.919191919192\n",
      "final cost 0.212724\n",
      "reg lambda 0.929292929293\n",
      "final cost 0.212712\n",
      "reg lambda 0.939393939394\n",
      "final cost 0.2127\n",
      "reg lambda 0.949494949495\n",
      "final cost 0.212688\n",
      "reg lambda 0.959595959596\n",
      "final cost 0.212677\n",
      "reg lambda 0.969696969697\n",
      "final cost 0.212667\n",
      "reg lambda 0.979797979798\n",
      "final cost 0.212654\n",
      "reg lambda 0.989898989899\n",
      "final cost 0.212645\n",
      "reg lambda 1.0\n",
      "final cost 0.212634\n"
     ]
    }
   ],
   "source": [
    "for reg_lambda in np.linspace(0,1,100):\n",
    "    for epoch in range(training_epochs):\n",
    "        sess.run(train_op, feed_dict={X: x_train, Y: y_train})\n",
    "    final_cost = sess.run(cost, feed_dict={X: x_test, Y: y_test})\n",
    "    print('reg lambda', reg_lambda)\n",
    "    print('final cost', final_cost)"
   ]
  },
  {
   "cell_type": "code",
   "execution_count": null,
   "metadata": {
    "collapsed": true
   },
   "outputs": [],
   "source": [
    "sess.close()"
   ]
  }
 ],
 "metadata": {
  "kernelspec": {
   "display_name": "Python 3",
   "language": "python",
   "name": "python3"
  },
  "language_info": {
   "codemirror_mode": {
    "name": "ipython",
    "version": 3
   },
   "file_extension": ".py",
   "mimetype": "text/x-python",
   "name": "python",
   "nbconvert_exporter": "python",
   "pygments_lexer": "ipython3",
   "version": "3.5.2"
  }
 },
 "nbformat": 4,
 "nbformat_minor": 2
}
