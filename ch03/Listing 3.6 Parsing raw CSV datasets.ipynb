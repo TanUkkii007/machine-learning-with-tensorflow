{
 "cells": [
  {
   "cell_type": "code",
   "execution_count": 1,
   "metadata": {
    "collapsed": false
   },
   "outputs": [],
   "source": [
    "import csv\n",
    "import time\n",
    "\n",
    "def read(filename, data_idx, data_parse, year, bucket=7):\n",
    "    days_in_year = 365\n",
    "    \n",
    "    freq = {}\n",
    "    for period in range(0, int(days_in_year / bucket)):\n",
    "        freq[period] = 0\n",
    "    \n",
    "    with open(filename, 'r') as csvfile:\n",
    "        csvreader = csv.reader(csvfile)\n",
    "        next(csvreader, None)\n",
    "        for row in csvreader:\n",
    "            if len(row[data_idx]) > 0:\n",
    "                t = time.strptime(row[data_idx], data_parse)\n",
    "                if t.tm_year == year and t.tm_yday < (days_in_year-1):\n",
    "                    freq[int(t.tm_yday / bucket)] += 1\n",
    "    \n",
    "    return freq"
   ]
  },
  {
   "cell_type": "code",
   "execution_count": 2,
   "metadata": {
    "collapsed": false
   },
   "outputs": [],
   "source": [
    "freq = read('311_Call_Center_Tracking_Data__Archived_.csv', 0, '%m/%d/%Y', 2014)"
   ]
  },
  {
   "cell_type": "code",
   "execution_count": 3,
   "metadata": {
    "collapsed": true
   },
   "outputs": [],
   "source": [
    "import tensorflow as tf\n",
    "import numpy as np\n",
    "import matplotlib.pyplot as plt\n",
    "\n",
    "def split_dataset(x_dataset, y_dataset, ratio):\n",
    "    arr = np.arange(x_dataset.size)\n",
    "    np.random.shuffle(arr)\n",
    "    num_train = ratio * x_dataset.size\n",
    "    x_train = x_dataset[arr[0:num_train]]\n",
    "    y_train = y_dataset[arr[0:num_train]]\n",
    "    x_test = x_dataset[arr[num_train:x_dataset.size]]\n",
    "    y_test = y_dataset[arr[num_train:x_dataset.size]]\n",
    "    return x_train, x_test, y_train, y_test"
   ]
  },
  {
   "cell_type": "code",
   "execution_count": 82,
   "metadata": {
    "collapsed": true
   },
   "outputs": [],
   "source": [
    "num_coeffs = 2 # somehow higher coefficient order does not work\n",
    "learning_rate = 0.001\n",
    "training_epochs = 1000\n",
    "reg_lambda = 10.0"
   ]
  },
  {
   "cell_type": "code",
   "execution_count": 83,
   "metadata": {
    "collapsed": false
   },
   "outputs": [
    {
     "name": "stdout",
     "output_type": "stream",
     "text": [
      "[ 0  1  2  3  4  5  6  7  8  9 10 11 12 13 14 15 16 17 18 19 20 21 22 23 24\n",
      " 25 26 27 28 29 30 31 32 33 34 35 36 37 38 39 40 41 42 43 44 45 46 47 48 49\n",
      " 50 51]\n",
      "[10278 16752 15023 16961 16568 16276 14739 17424 17247 16508 17192 17296\n",
      " 17073 18252 17658 16604 17604 18274 17708 19276 15542 19434 17733 17580\n",
      " 18232 18809 15896 18436 19021 19186 18396 17901 19212 18941 16145 19536\n",
      " 18135 17970 17595 18952 17257 18368 18252 18246 18069 17623 18332 12117\n",
      " 17130 18217 17510 11972]\n"
     ]
    },
    {
     "name": "stderr",
     "output_type": "stream",
     "text": [
      "/Users/yusuke/anaconda/envs/tensorflow/lib/python3.5/site-packages/ipykernel/__main__.py:9: VisibleDeprecationWarning: using a non-integer number instead of an integer will result in an error in the future\n",
      "/Users/yusuke/anaconda/envs/tensorflow/lib/python3.5/site-packages/ipykernel/__main__.py:10: VisibleDeprecationWarning: using a non-integer number instead of an integer will result in an error in the future\n",
      "/Users/yusuke/anaconda/envs/tensorflow/lib/python3.5/site-packages/ipykernel/__main__.py:11: VisibleDeprecationWarning: using a non-integer number instead of an integer will result in an error in the future\n",
      "/Users/yusuke/anaconda/envs/tensorflow/lib/python3.5/site-packages/ipykernel/__main__.py:12: VisibleDeprecationWarning: using a non-integer number instead of an integer will result in an error in the future\n"
     ]
    }
   ],
   "source": [
    "(x_dataset, y_dataset) = zip(*freq.items())\n",
    "\n",
    "x_dataset = np.fromiter(iter(x_dataset), dtype=int)\n",
    "y_dataset = np.fromiter(iter(y_dataset), dtype=int)\n",
    "print(x_dataset)\n",
    "print(y_dataset)\n",
    "\n",
    "(x_train, x_test, y_train, y_test) = split_dataset(x_dataset, y_dataset, 0.7)"
   ]
  },
  {
   "cell_type": "code",
   "execution_count": 55,
   "metadata": {
    "collapsed": false
   },
   "outputs": [
    {
     "data": {
      "image/png": "[encoded data removed]",
      "text/plain": [
       "<matplotlib.figure.Figure at 0x117bc8940>"
      ]
     },
     "metadata": {},
     "output_type": "display_data"
    }
   ],
   "source": [
    "plt.scatter(x_dataset, y_dataset)\n",
    "plt.show()"
   ]
  },
  {
   "cell_type": "code",
   "execution_count": 60,
   "metadata": {
    "collapsed": false
   },
   "outputs": [],
   "source": [
    "X = tf.placeholder(\"float\")\n",
    "Y = tf.placeholder(\"float\")"
   ]
  },
  {
   "cell_type": "code",
   "execution_count": 84,
   "metadata": {
    "collapsed": true
   },
   "outputs": [],
   "source": [
    "def model(X, w):\n",
    "    terms = []\n",
    "    for i in range(num_coeffs):\n",
    "        term = tf.multiply(w[i], tf.pow(X, i))\n",
    "        terms.append(term)\n",
    "    return tf.add_n(terms)"
   ]
  },
  {
   "cell_type": "code",
   "execution_count": 85,
   "metadata": {
    "collapsed": false
   },
   "outputs": [],
   "source": [
    "w = tf.Variable([0.] * num_coeffs, name=\"parameters\")\n",
    "y_model = model(X, w)\n",
    "cost = tf.div(\n",
    "    tf.add(\n",
    "        tf.reduce_sum(tf.square(Y-y_model)),\n",
    "        tf.multiply(reg_lambda, tf.reduce_sum(tf.square(w)))\n",
    "    ),\n",
    "    2*x_train.size\n",
    ")\n",
    "train_op = tf.train.GradientDescentOptimizer(learning_rate).minimize(cost)"
   ]
  },
  {
   "cell_type": "code",
   "execution_count": 87,
   "metadata": {
    "collapsed": false
   },
   "outputs": [],
   "source": [
    "sess = tf.Session()\n",
    "init = tf.global_variables_initializer()\n",
    "sess.run(init)"
   ]
  },
  {
   "cell_type": "code",
   "execution_count": 88,
   "metadata": {
    "collapsed": false,
    "scrolled": false
   },
   "outputs": [
    {
     "name": "stdout",
     "output_type": "stream",
     "text": [
      "reg lambda 0.0\n",
      "final cost 1.12874e+07\n",
      "reg lambda 0.10101010101\n",
      "final cost 1.14344e+07\n",
      "reg lambda 0.20202020202\n",
      "final cost 1.22038e+07\n",
      "reg lambda 0.30303030303\n",
      "final cost 1.28684e+07\n",
      "reg lambda 0.40404040404\n",
      "final cost 1.33222e+07\n",
      "reg lambda 0.505050505051\n",
      "final cost 1.36058e+07\n",
      "reg lambda 0.606060606061\n",
      "final cost 1.3776e+07\n",
      "reg lambda 0.707070707071\n",
      "final cost 1.3876e+07\n",
      "reg lambda 0.808080808081\n",
      "final cost 1.3934e+07\n",
      "reg lambda 0.909090909091\n",
      "final cost 1.39675e+07\n",
      "reg lambda 1.0101010101\n",
      "final cost 1.39868e+07\n",
      "reg lambda 1.11111111111\n",
      "final cost 1.39978e+07\n",
      "reg lambda 1.21212121212\n",
      "final cost 1.40041e+07\n",
      "reg lambda 1.31313131313\n",
      "final cost 1.40077e+07\n",
      "reg lambda 1.41414141414\n",
      "final cost 1.40097e+07\n",
      "reg lambda 1.51515151515\n",
      "final cost 1.40111e+07\n",
      "reg lambda 1.61616161616\n",
      "final cost 1.40114e+07\n",
      "reg lambda 1.71717171717\n",
      "final cost 1.40114e+07\n",
      "reg lambda 1.81818181818\n",
      "final cost 1.40114e+07\n",
      "reg lambda 1.91919191919\n",
      "final cost 1.40114e+07\n",
      "reg lambda 2.0202020202\n",
      "final cost 1.40114e+07\n",
      "reg lambda 2.12121212121\n",
      "final cost 1.40114e+07\n",
      "reg lambda 2.22222222222\n",
      "final cost 1.40114e+07\n",
      "reg lambda 2.32323232323\n",
      "final cost 1.40114e+07\n",
      "reg lambda 2.42424242424\n",
      "final cost 1.40114e+07\n",
      "reg lambda 2.52525252525\n",
      "final cost 1.40114e+07\n",
      "reg lambda 2.62626262626\n",
      "final cost 1.40114e+07\n",
      "reg lambda 2.72727272727\n",
      "final cost 1.40114e+07\n",
      "reg lambda 2.82828282828\n",
      "final cost 1.40114e+07\n",
      "reg lambda 2.92929292929\n",
      "final cost 1.40114e+07\n",
      "reg lambda 3.0303030303\n",
      "final cost 1.40114e+07\n",
      "reg lambda 3.13131313131\n",
      "final cost 1.40114e+07\n",
      "reg lambda 3.23232323232\n",
      "final cost 1.40114e+07\n",
      "reg lambda 3.33333333333\n",
      "final cost 1.40114e+07\n",
      "reg lambda 3.43434343434\n",
      "final cost 1.40114e+07\n",
      "reg lambda 3.53535353535\n",
      "final cost 1.40114e+07\n",
      "reg lambda 3.63636363636\n",
      "final cost 1.40114e+07\n",
      "reg lambda 3.73737373737\n",
      "final cost 1.40114e+07\n",
      "reg lambda 3.83838383838\n",
      "final cost 1.40114e+07\n",
      "reg lambda 3.93939393939\n",
      "final cost 1.40114e+07\n",
      "reg lambda 4.0404040404\n",
      "final cost 1.40114e+07\n",
      "reg lambda 4.14141414141\n",
      "final cost 1.40114e+07\n",
      "reg lambda 4.24242424242\n",
      "final cost 1.40114e+07\n",
      "reg lambda 4.34343434343\n",
      "final cost 1.40114e+07\n",
      "reg lambda 4.44444444444\n",
      "final cost 1.40114e+07\n",
      "reg lambda 4.54545454545\n",
      "final cost 1.40114e+07\n",
      "reg lambda 4.64646464646\n",
      "final cost 1.40114e+07\n",
      "reg lambda 4.74747474747\n",
      "final cost 1.40114e+07\n",
      "reg lambda 4.84848484848\n",
      "final cost 1.40114e+07\n",
      "reg lambda 4.94949494949\n",
      "final cost 1.40114e+07\n",
      "reg lambda 5.05050505051\n",
      "final cost 1.40114e+07\n",
      "reg lambda 5.15151515152\n",
      "final cost 1.40114e+07\n",
      "reg lambda 5.25252525253\n",
      "final cost 1.40114e+07\n",
      "reg lambda 5.35353535354\n",
      "final cost 1.40114e+07\n",
      "reg lambda 5.45454545455\n",
      "final cost 1.40114e+07\n",
      "reg lambda 5.55555555556\n",
      "final cost 1.40114e+07\n",
      "reg lambda 5.65656565657\n",
      "final cost 1.40114e+07\n",
      "reg lambda 5.75757575758\n",
      "final cost 1.40114e+07\n",
      "reg lambda 5.85858585859\n",
      "final cost 1.40114e+07\n",
      "reg lambda 5.9595959596\n",
      "final cost 1.40114e+07\n",
      "reg lambda 6.06060606061\n",
      "final cost 1.40114e+07\n",
      "reg lambda 6.16161616162\n",
      "final cost 1.40114e+07\n",
      "reg lambda 6.26262626263\n",
      "final cost 1.40114e+07\n",
      "reg lambda 6.36363636364\n",
      "final cost 1.40114e+07\n",
      "reg lambda 6.46464646465\n",
      "final cost 1.40114e+07\n",
      "reg lambda 6.56565656566\n",
      "final cost 1.40114e+07\n",
      "reg lambda 6.66666666667\n",
      "final cost 1.40114e+07\n",
      "reg lambda 6.76767676768\n",
      "final cost 1.40114e+07\n",
      "reg lambda 6.86868686869\n",
      "final cost 1.40114e+07\n",
      "reg lambda 6.9696969697\n",
      "final cost 1.40114e+07\n",
      "reg lambda 7.07070707071\n",
      "final cost 1.40114e+07\n",
      "reg lambda 7.17171717172\n",
      "final cost 1.40114e+07\n",
      "reg lambda 7.27272727273\n",
      "final cost 1.40114e+07\n",
      "reg lambda 7.37373737374\n",
      "final cost 1.40114e+07\n",
      "reg lambda 7.47474747475\n",
      "final cost 1.40114e+07\n",
      "reg lambda 7.57575757576\n",
      "final cost 1.40114e+07\n",
      "reg lambda 7.67676767677\n",
      "final cost 1.40114e+07\n",
      "reg lambda 7.77777777778\n",
      "final cost 1.40114e+07\n",
      "reg lambda 7.87878787879\n",
      "final cost 1.40114e+07\n",
      "reg lambda 7.9797979798\n",
      "final cost 1.40114e+07\n",
      "reg lambda 8.08080808081\n",
      "final cost 1.40114e+07\n",
      "reg lambda 8.18181818182\n",
      "final cost 1.40114e+07\n",
      "reg lambda 8.28282828283\n",
      "final cost 1.40114e+07\n",
      "reg lambda 8.38383838384\n",
      "final cost 1.40114e+07\n",
      "reg lambda 8.48484848485\n",
      "final cost 1.40114e+07\n",
      "reg lambda 8.58585858586\n",
      "final cost 1.40114e+07\n",
      "reg lambda 8.68686868687\n",
      "final cost 1.40114e+07\n",
      "reg lambda 8.78787878788\n",
      "final cost 1.40114e+07\n",
      "reg lambda 8.88888888889\n",
      "final cost 1.40114e+07\n",
      "reg lambda 8.9898989899\n",
      "final cost 1.40114e+07\n",
      "reg lambda 9.09090909091\n",
      "final cost 1.40114e+07\n",
      "reg lambda 9.19191919192\n",
      "final cost 1.40114e+07\n",
      "reg lambda 9.29292929293\n",
      "final cost 1.40114e+07\n",
      "reg lambda 9.39393939394\n",
      "final cost 1.40114e+07\n",
      "reg lambda 9.49494949495\n",
      "final cost 1.40114e+07\n",
      "reg lambda 9.59595959596\n",
      "final cost 1.40114e+07\n",
      "reg lambda 9.69696969697\n",
      "final cost 1.40114e+07\n",
      "reg lambda 9.79797979798\n",
      "final cost 1.40114e+07\n",
      "reg lambda 9.89898989899\n",
      "final cost 1.40114e+07\n",
      "reg lambda 10.0\n",
      "final cost 1.40114e+07\n"
     ]
    }
   ],
   "source": [
    "for reg_lambda in np.linspace(0,10,100):\n",
    "    for epoch in range(training_epochs):\n",
    "        sess.run(train_op, feed_dict={X: x_train, Y: y_train})\n",
    "    final_cost = sess.run(cost, feed_dict={X: x_test, Y: y_test})\n",
    "    print('reg lambda', reg_lambda)\n",
    "    print('final cost', final_cost)"
   ]
  },
  {
   "cell_type": "code",
   "execution_count": 89,
   "metadata": {
    "collapsed": false
   },
   "outputs": [
    {
     "name": "stdout",
     "output_type": "stream",
     "text": [
      "[ 8290.63476562   281.33163452]\n"
     ]
    }
   ],
   "source": [
    "w_val = sess.run(w)\n",
    "print(w_val)"
   ]
  },
  {
   "cell_type": "code",
   "execution_count": 90,
   "metadata": {
    "collapsed": false
   },
   "outputs": [
    {
     "data": {
      "image/png": "[encoded data removed]",
      "text/plain": [
       "<matplotlib.figure.Figure at 0x1184a0be0>"
      ]
     },
     "metadata": {},
     "output_type": "display_data"
    }
   ],
   "source": [
    "trX = range(0, 50)\n",
    "plt.scatter(x_train, y_train)\n",
    "trY = 0\n",
    "for i in range(num_coeffs):\n",
    "    trY += w_val[i] * np.power(trX, i)\n",
    "plt.plot(trX, trY, 'r')\n",
    "plt.show()"
   ]
  }
 ],
 "metadata": {
  "kernelspec": {
   "display_name": "Python 3",
   "language": "python",
   "name": "python3"
  },
  "language_info": {
   "codemirror_mode": {
    "name": "ipython",
    "version": 3
   },
   "file_extension": ".py",
   "mimetype": "text/x-python",
   "name": "python",
   "nbconvert_exporter": "python",
   "pygments_lexer": "ipython3",
   "version": "3.5.2"
  }
 },
 "nbformat": 4,
 "nbformat_minor": 2
}
